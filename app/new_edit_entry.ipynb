{
 "cells": [
  {
   "cell_type": "code",
   "execution_count": 1,
   "metadata": {
    "collapsed": true
   },
   "outputs": [],
   "source": [
    "# import Entry model and sd object\n",
    "from models import *"
   ]
  },
  {
   "cell_type": "code",
   "execution_count": 2,
   "metadata": {},
   "outputs": [
    {
     "data": {
      "text/plain": [
       "<SQLAlchemy engine=sqlite:////home/mohamed/Desktop/GitHub/blog/app/blog.db>"
      ]
     },
     "execution_count": 2,
     "metadata": {},
     "output_type": "execute_result"
    }
   ],
   "source": [
    "# What is db?\n",
    "db"
   ]
  },
  {
   "cell_type": "code",
   "execution_count": 3,
   "metadata": {
    "collapsed": true
   },
   "outputs": [],
   "source": [
    "# What is Entry and how do we create it?\n",
    "Entry?"
   ]
  },
  {
   "cell_type": "code",
   "execution_count": 4,
   "metadata": {},
   "outputs": [
    {
     "data": {
      "text/plain": [
       "True"
      ]
     },
     "execution_count": 4,
     "metadata": {},
     "output_type": "execute_result"
    }
   ],
   "source": [
    "#We can create Entry objects by passing column values in as the keyword-arguments, in the following steps:\n",
    "\n",
    "# 1- write the entry\n",
    "first_entry = Entry(title='First entry', body='This is the body of my first entry.')\n",
    "# 2- add it to the database session (session is an object that represents our actions on the database)\n",
    "db.session.add(first_entry)\n",
    "     ### until now we didn't save entry to our database, to confirm that try to get entry unique id, you will get none as answer, because we didn't do commit to databse yet.\n",
    "first_entry.id is None"
   ]
  },
  {
   "cell_type": "code",
   "execution_count": 5,
   "metadata": {},
   "outputs": [
    {
     "data": {
      "text/plain": [
       "1"
      ]
     },
     "execution_count": 5,
     "metadata": {},
     "output_type": "execute_result"
    }
   ],
   "source": [
    "# 3- Now commit the new entry, and check ID again\n",
    "db.session.commit()\n",
    "first_entry.id"
   ]
  },
  {
   "cell_type": "code",
   "execution_count": 6,
   "metadata": {},
   "outputs": [
    {
     "data": {
      "text/plain": [
       "datetime.datetime(2017, 12, 7, 17, 32, 53, 632081)"
      ]
     },
     "execution_count": 6,
     "metadata": {},
     "output_type": "execute_result"
    }
   ],
   "source": [
    "first_entry.created_timestamp"
   ]
  },
  {
   "cell_type": "code",
   "execution_count": 7,
   "metadata": {
    "collapsed": true
   },
   "outputs": [],
   "source": [
    "\"\"\"\n",
    "In order to make changes to an existing Entry , simply make your edits and then\n",
    "commit. Let's retrieve our Entry using the id that was returned to us earlier, make\n",
    "some changes, and commit it. SQLAlchemy will know that it needs to be updated.\n",
    "Here is how you might make edits to the first entry:\n",
    "\"\"\"\n",
    "first_entry = Entry.query.get(1)\n",
    "first_entry.body = 'This is the first entry, and I have made some edits.'\n",
    "db.session.commit()"
   ]
  },
  {
   "cell_type": "code",
   "execution_count": 9,
   "metadata": {},
   "outputs": [
    {
     "data": {
      "text/plain": [
       "u'This is the first entry, and I have made some edits.'"
      ]
     },
     "execution_count": 9,
     "metadata": {},
     "output_type": "execute_result"
    }
   ],
   "source": [
    "first_entry.body"
   ]
  },
  {
   "cell_type": "code",
   "execution_count": 10,
   "metadata": {
    "collapsed": true
   },
   "outputs": [],
   "source": [
    "\"\"\"\n",
    "Deleting an entry is just as easy as creating one. Instead of calling db.session.\n",
    "add , we will call db.session.delete and pass in the Entry instance that we wish\n",
    "to remove.\n",
    "\"\"\"\n",
    "bad_entry = Entry(title='bad entry', body='This is a lousy entry.')\n",
    "db.session.add(bad_entry)\n",
    "db.session.commit() # Save the bad entry to the database.\n",
    "db.session.delete(bad_entry)\n",
    "db.session.commit()  # The bad entry is now deleted from the database."
   ]
  },
  {
   "cell_type": "code",
   "execution_count": 11,
   "metadata": {},
   "outputs": [
    {
     "data": {
      "text/plain": [
       "[<Entry: First entry>]"
      ]
     },
     "execution_count": 11,
     "metadata": {},
     "output_type": "execute_result"
    }
   ],
   "source": [
    "entries = Entry.query.all()\n",
    "entries # What are our entries?"
   ]
  }
 ],
 "metadata": {
  "kernelspec": {
   "display_name": "Python 2",
   "language": "python",
   "name": "python2"
  },
  "language_info": {
   "codemirror_mode": {
    "name": "ipython",
    "version": 2
   },
   "file_extension": ".py",
   "mimetype": "text/x-python",
   "name": "python",
   "nbconvert_exporter": "python",
   "pygments_lexer": "ipython2",
   "version": "2.7.13"
  }
 },
 "nbformat": 4,
 "nbformat_minor": 2
}
