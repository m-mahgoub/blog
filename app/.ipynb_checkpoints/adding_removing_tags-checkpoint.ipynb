{
 "cells": [
  {
   "cell_type": "code",
   "execution_count": 1,
   "metadata": {},
   "outputs": [
    {
     "data": {
      "text/plain": [
       "[<models.Tag at 0x7f1dfaddac90>,\n",
       " <models.Tag at 0x7f1dfaddad10>,\n",
       " <models.Tag at 0x7f1dfaddad90>,\n",
       " <models.Tag at 0x7f1dfaddae50>,\n",
       " <models.Tag at 0x7f1dfaddaf10>,\n",
       " <models.Tag at 0x7f1dfaddafd0>,\n",
       " <models.Tag at 0x7f1dfad770d0>]"
      ]
     },
     "execution_count": 1,
     "metadata": {},
     "output_type": "execute_result"
    }
   ],
   "source": [
    "from models import *\n",
    "Tag.query.all()"
   ]
  },
  {
   "cell_type": "code",
   "execution_count": 5,
   "metadata": {
    "collapsed": true
   },
   "outputs": [],
   "source": [
    "# There are currently no tags in the database, so let's create a couple of them\n",
    "python = Tag(name='python')\n",
    "flask = Tag(name='flask')\n",
    "db.session.add_all([python, flask])\n",
    "db.session.commit()"
   ]
  },
  {
   "cell_type": "code",
   "execution_count": 6,
   "metadata": {
    "scrolled": true
   },
   "outputs": [
    {
     "data": {
      "text/plain": [
       "[<Entry: First entry>]"
      ]
     },
     "execution_count": 6,
     "metadata": {},
     "output_type": "execute_result"
    }
   ],
   "source": [
    "# load up some example entries\n",
    "Entry.query.all()"
   ]
  },
  {
   "cell_type": "code",
   "execution_count": 7,
   "metadata": {
    "collapsed": true
   },
   "outputs": [],
   "source": [
    "first = Entry.query.all()[0]"
   ]
  },
  {
   "cell_type": "code",
   "execution_count": 8,
   "metadata": {},
   "outputs": [],
   "source": [
    "# To add tags to an entry, simply assign them to the entry's tags attribute\n",
    "first.tags = [python]\n",
    "db.session.commit()"
   ]
  },
  {
   "cell_type": "code",
   "execution_count": 9,
   "metadata": {
    "collapsed": true
   },
   "outputs": [],
   "source": [
    "# We can work with an entry's list of tags just like a normal Python list, so the usual.append() and .remove() methods will also work:\n",
    "kittens = Tag(name='kittens')\n",
    "first.tags.append(kittens)\n",
    "db.session.commit()"
   ]
  },
  {
   "cell_type": "code",
   "execution_count": 10,
   "metadata": {},
   "outputs": [
    {
     "data": {
      "text/plain": [
       "[<models.Tag at 0x7f1dfad4eb90>, <models.Tag at 0x7f1dfad77610>]"
      ]
     },
     "execution_count": 10,
     "metadata": {},
     "output_type": "execute_result"
    }
   ],
   "source": [
    "first.tags"
   ]
  },
  {
   "cell_type": "code",
   "execution_count": 11,
   "metadata": {
    "collapsed": true
   },
   "outputs": [],
   "source": [
    "first.tags.remove(kittens)\n",
    "db.session.commit()"
   ]
  },
  {
   "cell_type": "code",
   "execution_count": 12,
   "metadata": {},
   "outputs": [
    {
     "data": {
      "text/plain": [
       "[<models.Tag at 0x7f1dfad4eb90>]"
      ]
     },
     "execution_count": 12,
     "metadata": {},
     "output_type": "execute_result"
    }
   ],
   "source": [
    "first.tags"
   ]
  },
  {
   "cell_type": "code",
   "execution_count": 13,
   "metadata": {},
   "outputs": [
    {
     "data": {
      "text/plain": [
       "<models.Tag at 0x7f1dfad4eb90>"
      ]
     },
     "execution_count": 13,
     "metadata": {},
     "output_type": "execute_result"
    }
   ],
   "source": [
    "# Using backrefs\n",
    "python # The python variable is just a tag."
   ]
  },
  {
   "cell_type": "code",
   "execution_count": 14,
   "metadata": {},
   "outputs": [
    {
     "data": {
      "text/plain": [
       "<sqlalchemy.orm.dynamic.AppenderBaseQuery at 0x7f1dfad4ed10>"
      ]
     },
     "execution_count": 14,
     "metadata": {},
     "output_type": "execute_result"
    }
   ],
   "source": [
    "python.entries"
   ]
  },
  {
   "cell_type": "code",
   "execution_count": 15,
   "metadata": {},
   "outputs": [
    {
     "data": {
      "text/plain": [
       "[<Entry: First entry>]"
      ]
     },
     "execution_count": 15,
     "metadata": {},
     "output_type": "execute_result"
    }
   ],
   "source": [
    "python.entries.all()"
   ]
  },
  {
   "cell_type": "code",
   "execution_count": 16,
   "metadata": {},
   "outputs": [
    {
     "data": {
      "text/plain": [
       "<Entry: First entry>"
      ]
     },
     "execution_count": 16,
     "metadata": {},
     "output_type": "execute_result"
    }
   ],
   "source": [
    "'''\n",
    "Unlike the Entry.tags reference, the back-reference is specified as lazy='dynamic' .\n",
    "This means that, unlike entry.tags, which gives us a list of tags, we will not\n",
    "receive a list of entries every time we access tag.entries . Why is this? Typically,\n",
    "when the result-set is larger than a few items, it is more useful to treat the backref\n",
    "argument as a query, which can be filtered, ordered, and so on. For example, what if\n",
    "we wanted to show the latest entry tagged with python ?\n",
    "'''\n",
    "python.entries.order_by(Entry.created_timestamp.desc()).first()"
   ]
  }
 ],
 "metadata": {
  "kernelspec": {
   "display_name": "Python 2",
   "language": "python",
   "name": "python2"
  },
  "language_info": {
   "codemirror_mode": {
    "name": "ipython",
    "version": 2
   },
   "file_extension": ".py",
   "mimetype": "text/x-python",
   "name": "python",
   "nbconvert_exporter": "python",
   "pygments_lexer": "ipython2",
   "version": "2.7.13"
  }
 },
 "nbformat": 4,
 "nbformat_minor": 2
}
