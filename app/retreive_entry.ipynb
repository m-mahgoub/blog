{
 "cells": [
  {
   "cell_type": "code",
   "execution_count": 2,
   "metadata": {
    "collapsed": true
   },
   "outputs": [],
   "source": [
    "from models import *"
   ]
  },
  {
   "cell_type": "code",
   "execution_count": 3,
   "metadata": {},
   "outputs": [
    {
     "data": {
      "text/plain": [
       "[<Entry: First entry>, <Entry: First entry>]"
      ]
     },
     "execution_count": 3,
     "metadata": {},
     "output_type": "execute_result"
    }
   ],
   "source": [
    "\"\"\"\n",
    "Entry.query:\n",
    "This attribute exposes a variety of APIs for working with the collection of entries in the database.\n",
    "\"\"\"\n",
    "# 1- retrieve a list of all the entries in the Entry table\n",
    "entries = Entry.query.all()\n",
    "entries # What are our entries?"
   ]
  },
  {
   "cell_type": "code",
   "execution_count": 4,
   "metadata": {},
   "outputs": [
    {
     "data": {
      "text/plain": [
       "[<Entry: First entry>, <Entry: First entry>]"
      ]
     },
     "execution_count": 4,
     "metadata": {},
     "output_type": "execute_result"
    }
   ],
   "source": [
    "# 2- specify that we want the entries returned to us in an alphabetical order by title:\n",
    "Entry.query.order_by(Entry.title.asc()).all()"
   ]
  },
  {
   "cell_type": "code",
   "execution_count": 6,
   "metadata": {
    "collapsed": true
   },
   "outputs": [],
   "source": [
    "# 3- list entries in reverse-chronological order, based on when they were last updated:\n",
    "oldest_to_newest = Entry.query.order_by(Entry.modified_timestamp.desc()).all()"
   ]
  },
  {
   "cell_type": "code",
   "execution_count": 9,
   "metadata": {},
   "outputs": [
    {
     "data": {
      "text/plain": [
       "<Entry: First entry>"
      ]
     },
     "execution_count": 9,
     "metadata": {},
     "output_type": "execute_result"
    }
   ],
   "source": [
    "\"\"\"\n",
    "#################\n",
    "Filtering the list of entries\n",
    "#################\n",
    "\"\"\"\n",
    "# specify that we want to filter by entries where the title equals 'First entry'\n",
    "Entry.query.filter(Entry.title == 'First entry').all()\n",
    "Entry.query.filter(Entry.title == 'First entry').first()"
   ]
  },
  {
   "cell_type": "code",
   "execution_count": 15,
   "metadata": {},
   "outputs": [
    {
     "name": "stdout",
     "output_type": "stream",
     "text": [
      "SELECT entry.id AS entry_id, entry.title AS entry_title, entry.slug AS entry_slug, entry.body AS entry_body, entry.created_timestamp AS entry_created_timestamp, entry.modified_timestamp AS entry_modified_timestamp \n",
      "FROM entry \n",
      "WHERE (entry.title LIKE '%%' || ? || '%%') OR (entry.title LIKE '%%' || ? || '%%')\n"
     ]
    }
   ],
   "source": [
    "\"\"\"\n",
    "#################\n",
    "Combining expressions\n",
    "#################\n",
    "\"\"\"\n",
    "query = Entry.query.filter(Entry.title.contains('First entry') | Entry.title.contains('First entry'))\n",
    "print str(query)"
   ]
  },
  {
   "cell_type": "code",
   "execution_count": 17,
   "metadata": {},
   "outputs": [
    {
     "data": {
      "text/plain": [
       "<flask_sqlalchemy.BaseQuery at 0x7f31f3708dd0>"
      ]
     },
     "execution_count": 17,
     "metadata": {},
     "output_type": "execute_result"
    }
   ],
   "source": [
    "\"\"\"\n",
    "#################\n",
    "Negation\n",
    "#################\n",
    "If we wanted to get a list of all blog entries that did not contain Python or Flask in the title, how would we do that? SQLAlchemy provides two ways to create these types of expressions, using either Python's unary negation operator ( ~ ) or by calling db.not_() . This is how you\n",
    "would construct this query with SQLAlchemy:\n",
    "\"\"\"\n",
    "Entry.query.filter(~(Entry.title.contains('Python') | Entry.title.contains('Flask')))\n",
    "# Using db.not_() :\n",
    "Entry.query.filter(db.not_(Entry.title.contains('Python') | Entry.title.contains('Flask')))"
   ]
  }
 ],
 "metadata": {
  "kernelspec": {
   "display_name": "Python 2",
   "language": "python",
   "name": "python2"
  },
  "language_info": {
   "codemirror_mode": {
    "name": "ipython",
    "version": 2
   },
   "file_extension": ".py",
   "mimetype": "text/x-python",
   "name": "python",
   "nbconvert_exporter": "python",
   "pygments_lexer": "ipython2",
   "version": "2.7.13"
  }
 },
 "nbformat": 4,
 "nbformat_minor": 2
}
