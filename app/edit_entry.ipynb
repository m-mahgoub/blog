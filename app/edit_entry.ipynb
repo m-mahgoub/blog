{
 "cells": [
  {
   "cell_type": "code",
   "execution_count": 4,
   "metadata": {
    "collapsed": true
   },
   "outputs": [],
   "source": [
    "from models import *\n",
    "Entry?"
   ]
  },
  {
   "cell_type": "code",
   "execution_count": 7,
   "metadata": {},
   "outputs": [
    {
     "data": {
      "text/plain": [
       "\"\\nIn order to make changes to an existing Entry , simply make your edits and then\\ncommit. Let's retrieve our Entry using the id that was returned to us earlier, make\\nsome changes, and commit it. SQLAlchemy will know that it needs to be updated.\\nHere is how you might make edits to the first entry:\\n\""
      ]
     },
     "execution_count": 7,
     "metadata": {},
     "output_type": "execute_result"
    }
   ],
   "source": [
    "\"\"\"\n",
    "In order to make changes to an existing Entry , simply make your edits and then\n",
    "commit. Let's retrieve our Entry using the id that was returned to us earlier, make\n",
    "some changes, and commit it. SQLAlchemy will know that it needs to be updated.\n",
    "Here is how you might make edits to the first entry:\n",
    "\"\"\""
   ]
  },
  {
   "cell_type": "code",
   "execution_count": 8,
   "metadata": {
    "collapsed": true
   },
   "outputs": [],
   "source": [
    "first_entry = Entry.query.get(1)\n",
    "first_entry.body = 'This is the first entry, and I have made some edits.'\n",
    "db.session.commit()"
   ]
  },
  {
   "cell_type": "code",
   "execution_count": 9,
   "metadata": {
    "collapsed": true
   },
   "outputs": [],
   "source": [
    "\"\"\"\n",
    "Deleting an entry is just as easy as creating one. Instead of calling db.session.\n",
    "add , we will call db.session.delete and pass in the Entry instance that we wish\n",
    "to remove.\n",
    "\"\"\"\n",
    "bad_entry = Entry(title='bad entry', body='This is a lousy entry.')\n",
    "db.session.add(bad_entry)\n",
    "db.session.commit() # Save the bad entry to the database.\n",
    "db.session.delete(bad_entry)\n",
    "db.session.commit()  # The bad entry is now deleted from the database."
   ]
  }
 ],
 "metadata": {
  "kernelspec": {
   "display_name": "Python 2",
   "language": "python",
   "name": "python2"
  },
  "language_info": {
   "codemirror_mode": {
    "name": "ipython",
    "version": 2
   },
   "file_extension": ".py",
   "mimetype": "text/x-python",
   "name": "python",
   "nbconvert_exporter": "python",
   "pygments_lexer": "ipython2",
   "version": "2.7.13"
  }
 },
 "nbformat": 4,
 "nbformat_minor": 2
}
